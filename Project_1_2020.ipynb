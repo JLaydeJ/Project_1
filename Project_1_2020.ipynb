{
 "cells": [
  {
   "cell_type": "code",
   "execution_count": 12,
   "metadata": {},
   "outputs": [],
   "source": [
    "# Setting up dependencies to be utilized later here.\n",
    "import pandas as pd\n",
    "from pathlib import Path\n",
    "\n",
    "import matplotlib.pyplot as plt\n",
    "import scipy.stats as st\n",
    "import numpy as np\n",
    "import calendar\n"
   ]
  },
  {
   "cell_type": "code",
   "execution_count": 13,
   "metadata": {},
   "outputs": [
    {
     "data": {
      "text/html": [
       "<div>\n",
       "<style scoped>\n",
       "    .dataframe tbody tr th:only-of-type {\n",
       "        vertical-align: middle;\n",
       "    }\n",
       "\n",
       "    .dataframe tbody tr th {\n",
       "        vertical-align: top;\n",
       "    }\n",
       "\n",
       "    .dataframe thead th {\n",
       "        text-align: right;\n",
       "    }\n",
       "</style>\n",
       "<table border=\"1\" class=\"dataframe\">\n",
       "  <thead>\n",
       "    <tr style=\"text-align: right;\">\n",
       "      <th></th>\n",
       "      <th>date</th>\n",
       "      <th>weekday</th>\n",
       "      <th>winning_numbers</th>\n",
       "      <th>powerball</th>\n",
       "      <th>powerplay</th>\n",
       "      <th>jackpot</th>\n",
       "    </tr>\n",
       "  </thead>\n",
       "  <tbody>\n",
       "    <tr>\n",
       "      <th>0</th>\n",
       "      <td>1/1/2020</td>\n",
       "      <td>Wed</td>\n",
       "      <td>49-53-57-59-62</td>\n",
       "      <td>26</td>\n",
       "      <td>2</td>\n",
       "      <td>220000000</td>\n",
       "    </tr>\n",
       "    <tr>\n",
       "      <th>1</th>\n",
       "      <td>1/4/2020</td>\n",
       "      <td>Sat</td>\n",
       "      <td>1-11-21-25-54</td>\n",
       "      <td>7</td>\n",
       "      <td>2</td>\n",
       "      <td>237000000</td>\n",
       "    </tr>\n",
       "    <tr>\n",
       "      <th>2</th>\n",
       "      <td>1/8/2020</td>\n",
       "      <td>Wed</td>\n",
       "      <td>2-4-7-43-56</td>\n",
       "      <td>22</td>\n",
       "      <td>4</td>\n",
       "      <td>258000000</td>\n",
       "    </tr>\n",
       "    <tr>\n",
       "      <th>3</th>\n",
       "      <td>1/11/2020</td>\n",
       "      <td>Sat</td>\n",
       "      <td>3-21-23-31-59</td>\n",
       "      <td>3</td>\n",
       "      <td>2</td>\n",
       "      <td>277000000</td>\n",
       "    </tr>\n",
       "    <tr>\n",
       "      <th>4</th>\n",
       "      <td>1/15/2020</td>\n",
       "      <td>Wed</td>\n",
       "      <td>39-41-53-55-68</td>\n",
       "      <td>19</td>\n",
       "      <td>2</td>\n",
       "      <td>296000000</td>\n",
       "    </tr>\n",
       "    <tr>\n",
       "      <th>...</th>\n",
       "      <td>...</td>\n",
       "      <td>...</td>\n",
       "      <td>...</td>\n",
       "      <td>...</td>\n",
       "      <td>...</td>\n",
       "      <td>...</td>\n",
       "    </tr>\n",
       "    <tr>\n",
       "      <th>100</th>\n",
       "      <td>12/16/2020</td>\n",
       "      <td>Wed</td>\n",
       "      <td>4-23-37-61-67</td>\n",
       "      <td>7</td>\n",
       "      <td>2</td>\n",
       "      <td>287000000</td>\n",
       "    </tr>\n",
       "    <tr>\n",
       "      <th>101</th>\n",
       "      <td>12/19/2020</td>\n",
       "      <td>Sat</td>\n",
       "      <td>27-32-34-43-52</td>\n",
       "      <td>13</td>\n",
       "      <td>2</td>\n",
       "      <td>304000000</td>\n",
       "    </tr>\n",
       "    <tr>\n",
       "      <th>102</th>\n",
       "      <td>12/23/2020</td>\n",
       "      <td>Wed</td>\n",
       "      <td>6-13-38-39-53</td>\n",
       "      <td>6</td>\n",
       "      <td>3</td>\n",
       "      <td>321000000</td>\n",
       "    </tr>\n",
       "    <tr>\n",
       "      <th>103</th>\n",
       "      <td>12/26/2020</td>\n",
       "      <td>Sat</td>\n",
       "      <td>10-24-27-35-53</td>\n",
       "      <td>18</td>\n",
       "      <td>2</td>\n",
       "      <td>341000000</td>\n",
       "    </tr>\n",
       "    <tr>\n",
       "      <th>104</th>\n",
       "      <td>12/30/2020</td>\n",
       "      <td>Wed</td>\n",
       "      <td>3-43-45-61-65</td>\n",
       "      <td>14</td>\n",
       "      <td>2</td>\n",
       "      <td>363000000</td>\n",
       "    </tr>\n",
       "  </tbody>\n",
       "</table>\n",
       "<p>105 rows × 6 columns</p>\n",
       "</div>"
      ],
      "text/plain": [
       "           date weekday winning_numbers  powerball  powerplay    jackpot\n",
       "0      1/1/2020     Wed  49-53-57-59-62         26          2  220000000\n",
       "1      1/4/2020     Sat   1-11-21-25-54          7          2  237000000\n",
       "2      1/8/2020     Wed     2-4-7-43-56         22          4  258000000\n",
       "3     1/11/2020     Sat   3-21-23-31-59          3          2  277000000\n",
       "4     1/15/2020     Wed  39-41-53-55-68         19          2  296000000\n",
       "..          ...     ...             ...        ...        ...        ...\n",
       "100  12/16/2020     Wed   4-23-37-61-67          7          2  287000000\n",
       "101  12/19/2020     Sat  27-32-34-43-52         13          2  304000000\n",
       "102  12/23/2020     Wed   6-13-38-39-53          6          3  321000000\n",
       "103  12/26/2020     Sat  10-24-27-35-53         18          2  341000000\n",
       "104  12/30/2020     Wed   3-43-45-61-65         14          2  363000000\n",
       "\n",
       "[105 rows x 6 columns]"
      ]
     },
     "execution_count": 13,
     "metadata": {},
     "output_type": "execute_result"
    }
   ],
   "source": [
    "# Converting .csv file into a dataframe for data manipulation\n",
    "wa_lottery_path_2020 = Path(\"Resources/2020_lottery_data.csv\")\n",
    "wa_lottery_df_2020 = pd.read_csv(wa_lottery_path_2020)\n",
    "\n",
    "# displaying .csv just to see what data we have\n",
    "wa_lottery_df_2020"
   ]
  },
  {
   "cell_type": "code",
   "execution_count": 14,
   "metadata": {},
   "outputs": [],
   "source": [
    "# Generated a new dataframe that holds only the two columns 'weekday' + 'powerball'\n",
    "weekday_powerball_2020 = wa_lottery_df_2020[['weekday','powerball']]\n",
    "\n",
    "# groupby weekday (sets index to weekday), for the column 'powerball' using pandas apply function lambda x: x.mode().max()\n",
    "# to every single row for Sat and returns the most common mode # for that column then does the same for Wed.\n",
    "# lambda is a keyword that is built into python to create a anonymous function\n",
    "# lambda : An anonymous inline function consisting of a single expression which is evaluated when the function is called. \n",
    "# The syntax to create a lambda function is lambda [parameters]: expression.  This is from the official python documentation\n",
    "powerball_grouped_2020 = weekday_powerball_2020.groupby('weekday')['powerball'].apply(lambda x: x.mode())\n",
    "\n",
    "# powerball_grouped_2020"
   ]
  },
  {
   "cell_type": "code",
   "execution_count": 15,
   "metadata": {},
   "outputs": [],
   "source": [
    "# Generated a new dataframe that holds only the two columns 'weekday' + 'powerplay'\n",
    "weekday_powerplay_2020 = wa_lottery_df_2020[['weekday', 'powerplay']]\n",
    "\n",
    "# groupby weekday (sets index to weekday), for the column 'powerplay' using pandas apply function lambda x: x.mode().max()\n",
    "# to every single row for Sat and returns the most common mode # for that column then does the same for Wed.\n",
    "powerplay_grouped_2020 = weekday_powerplay_2020.groupby('weekday')['powerplay'].apply(lambda x: x.mode())\n",
    "\n",
    "# powerplay_grouped_2020"
   ]
  },
  {
   "cell_type": "code",
   "execution_count": 16,
   "metadata": {},
   "outputs": [
    {
     "data": {
      "text/html": [
       "<div>\n",
       "<style scoped>\n",
       "    .dataframe tbody tr th:only-of-type {\n",
       "        vertical-align: middle;\n",
       "    }\n",
       "\n",
       "    .dataframe tbody tr th {\n",
       "        vertical-align: top;\n",
       "    }\n",
       "\n",
       "    .dataframe thead th {\n",
       "        text-align: right;\n",
       "    }\n",
       "</style>\n",
       "<table border=\"1\" class=\"dataframe\">\n",
       "  <thead>\n",
       "    <tr style=\"text-align: right;\">\n",
       "      <th></th>\n",
       "      <th></th>\n",
       "      <th>powerball</th>\n",
       "      <th>powerplay</th>\n",
       "    </tr>\n",
       "    <tr>\n",
       "      <th>weekday</th>\n",
       "      <th></th>\n",
       "      <th></th>\n",
       "      <th></th>\n",
       "    </tr>\n",
       "  </thead>\n",
       "  <tbody>\n",
       "    <tr>\n",
       "      <th>Sat</th>\n",
       "      <th>0</th>\n",
       "      <td>18</td>\n",
       "      <td>2</td>\n",
       "    </tr>\n",
       "    <tr>\n",
       "      <th>Wed</th>\n",
       "      <th>0</th>\n",
       "      <td>2</td>\n",
       "      <td>2</td>\n",
       "    </tr>\n",
       "  </tbody>\n",
       "</table>\n",
       "</div>"
      ],
      "text/plain": [
       "           powerball  powerplay\n",
       "weekday                        \n",
       "Sat     0         18          2\n",
       "Wed     0          2          2"
      ]
     },
     "execution_count": 16,
     "metadata": {},
     "output_type": "execute_result"
    }
   ],
   "source": [
    "# Combine powerplay/powerball common 2020 DataFrames\n",
    "combined_common_weekday_2020 = pd.merge(powerball_grouped_2020, powerplay_grouped_2020, left_index=True, right_index=True)\n",
    "\n",
    "combined_common_weekday_2020"
   ]
  },
  {
   "cell_type": "code",
   "execution_count": 17,
   "metadata": {},
   "outputs": [
    {
     "data": {
      "text/plain": [
       "<matplotlib.legend.Legend at 0x2e0b683f490>"
      ]
     },
     "execution_count": 17,
     "metadata": {},
     "output_type": "execute_result"
    },
    {
     "data": {
      "image/png": "[encoded data removed]",
      "text/plain": [
       "<Figure size 1000x500 with 1 Axes>"
      ]
     },
     "metadata": {},
     "output_type": "display_data"
    }
   ],
   "source": [
    "# generate a graph, bar, pie, not sure which one would represent the data better\n",
    "# Plot bar chart\n",
    "data = combined_common_weekday_2020.plot(kind = 'barh', ylabel = 'weekday', figsize = (10,5))\n",
    "data.set(xlabel = 'Most Played Number per Weekday')\n",
    "for c in data.containers:\n",
    "    data.bar_label(c, fmt = '%.0f', label_type = 'edge')\n",
    "data.margins(x = 0.1)\n",
    "data.legend(title = 'Lottery', bbox_to_anchor = (1, 1.02), loc = 'upper left')"
   ]
  },
  {
   "cell_type": "code",
   "execution_count": 18,
   "metadata": {
    "scrolled": true
   },
   "outputs": [],
   "source": [
    "# create a copy of the original dataframe with columns 'date' and 'powerball'\n",
    "# This will eliminate any warnings about the original dataframes index\n",
    "date_powerball_2020 = wa_lottery_df_2020[['date', 'powerball']].copy()\n",
    "\n",
    "# convert the date column object(mm/dd/yyyy) into a datetime object (yyyy-mm-dd) [pandas reference: \n",
    "# https://pandas.pydata.org/docs/reference/api/pandas.to_datetime.html]\n",
    "date_powerball_2020['date'] = pd.to_datetime(date_powerball_2020['date'])\n",
    "\n",
    "# Now I can generate a new column that will hold the months \n",
    "# (ex: january == 1, february == 2)\n",
    "# [pandas.Series.dt = https://pandas.pydata.org/docs/reference/api/pandas.Series.dt.html]\n",
    "date_powerball_2020['month'] = date_powerball_2020['date'].dt.month\n",
    "\n",
    "# make a variable that holds a dataframe that is grouped by month\n",
    "month = date_powerball_2020.groupby('month')\n",
    "\n",
    "# create an empty dictionary\n",
    "powerball_common_2020 = {}\n",
    "\n",
    "# create a loop that will iterate through 1-12 (for the months).  \n",
    "for i in range(1, 13):\n",
    "    \n",
    "    #set a variable to hold the group by each month\n",
    "    month_data = month.get_group(i) \n",
    "    \n",
    "    # take the variable month_data find the greatest repeated value\n",
    "    powerball_common_2020[i] = month_data['powerball'].max()\n",
    "\n",
    "# I utilized pd.DataFrame.from_dict() from https://pandas.pydata.org/docs/reference/api/pandas.DataFrame.from_dict.html \n",
    "# to convert my dictionary from my for loop into a DataFrame.\n",
    "powerball_common_months_2020 = pd.DataFrame.from_dict(powerball_common_2020, orient='index', columns=['Common Powerball'])  "
   ]
  },
  {
   "cell_type": "markdown",
   "metadata": {},
   "source": [
    "There were three most frequent numbers that were called out of 12 months and that was 18, 5, 4.  Choosing these numbers increases your odds of winning at most 4$ even if your winning numbers didn't match."
   ]
  },
  {
   "cell_type": "code",
   "execution_count": 19,
   "metadata": {},
   "outputs": [],
   "source": [
    "# create a copy of the original dataframe with columns 'date' and 'powerplay'\n",
    "# This will eliminate any warnings about the original dataframes index\n",
    "date_powerplay_2020 = wa_lottery_df_2020[['date', 'powerplay']].copy()\n",
    "\n",
    "# convert the date column object(mm/dd/yyyy) into a datetime object (yyyy-mm-dd) [pandas reference: \n",
    "# https://pandas.pydata.org/docs/reference/api/pandas.to_datetime.html]\n",
    "date_powerplay_2020['date'] = pd.to_datetime(date_powerplay_2020['date'])\n",
    "\n",
    "# Now I can generate a new column that will hold the months \n",
    "# (ex: january == 1, february == 2)\n",
    "# [pandas.Series.dt = https://pandas.pydata.org/docs/reference/api/pandas.Series.dt.html]\n",
    "date_powerplay_2020['month'] = date_powerplay_2020['date'].dt.month\n",
    "\n",
    "# make a variable that holds a groupby function for month in\n",
    "# dataframe date_powerball_2020\n",
    "month = date_powerplay_2020.groupby('month')\n",
    "\n",
    "# create an empty dictionary\n",
    "powerplay_common_2020 = {}\n",
    "\n",
    "# create a loop that will iterate through 1-12 (for the months).  \n",
    "for i in range(1, 13):\n",
    "    \n",
    "    #set a variable to hold the group by each month\n",
    "    month_data = month.get_group(i) \n",
    "    \n",
    "    # take the variable month_data find the greatest repeated value\n",
    "    powerplay_common_2020[i] = month_data['powerplay'].max()\n",
    "\n",
    "# I utilized pd.DataFrame.from_dict() from https://pandas.pydata.org/docs/reference/api/pandas.DataFrame.from_dict.html \n",
    "# to convert my dictionary from my for loop into a DataFrame.\n",
    "powerplay_common_months_2020 = pd.DataFrame.from_dict(powerplay_common_2020, orient='index', columns=['Common Powerplay'])"
   ]
  },
  {
   "cell_type": "code",
   "execution_count": 20,
   "metadata": {},
   "outputs": [
    {
     "data": {
      "text/html": [
       "<div>\n",
       "<style scoped>\n",
       "    .dataframe tbody tr th:only-of-type {\n",
       "        vertical-align: middle;\n",
       "    }\n",
       "\n",
       "    .dataframe tbody tr th {\n",
       "        vertical-align: top;\n",
       "    }\n",
       "\n",
       "    .dataframe thead th {\n",
       "        text-align: right;\n",
       "    }\n",
       "</style>\n",
       "<table border=\"1\" class=\"dataframe\">\n",
       "  <thead>\n",
       "    <tr style=\"text-align: right;\">\n",
       "      <th></th>\n",
       "      <th>Common Powerplay</th>\n",
       "      <th>Common Powerball</th>\n",
       "    </tr>\n",
       "  </thead>\n",
       "  <tbody>\n",
       "    <tr>\n",
       "      <th>Jan</th>\n",
       "      <td>4</td>\n",
       "      <td>26</td>\n",
       "    </tr>\n",
       "    <tr>\n",
       "      <th>Feb</th>\n",
       "      <td>4</td>\n",
       "      <td>25</td>\n",
       "    </tr>\n",
       "    <tr>\n",
       "      <th>Mar</th>\n",
       "      <td>4</td>\n",
       "      <td>23</td>\n",
       "    </tr>\n",
       "    <tr>\n",
       "      <th>Apr</th>\n",
       "      <td>5</td>\n",
       "      <td>24</td>\n",
       "    </tr>\n",
       "    <tr>\n",
       "      <th>May</th>\n",
       "      <td>5</td>\n",
       "      <td>24</td>\n",
       "    </tr>\n",
       "    <tr>\n",
       "      <th>Jun</th>\n",
       "      <td>5</td>\n",
       "      <td>23</td>\n",
       "    </tr>\n",
       "    <tr>\n",
       "      <th>Jul</th>\n",
       "      <td>10</td>\n",
       "      <td>26</td>\n",
       "    </tr>\n",
       "    <tr>\n",
       "      <th>Aug</th>\n",
       "      <td>10</td>\n",
       "      <td>24</td>\n",
       "    </tr>\n",
       "    <tr>\n",
       "      <th>Sep</th>\n",
       "      <td>4</td>\n",
       "      <td>24</td>\n",
       "    </tr>\n",
       "    <tr>\n",
       "      <th>Oct</th>\n",
       "      <td>3</td>\n",
       "      <td>26</td>\n",
       "    </tr>\n",
       "    <tr>\n",
       "      <th>Nov</th>\n",
       "      <td>2</td>\n",
       "      <td>26</td>\n",
       "    </tr>\n",
       "    <tr>\n",
       "      <th>Dec</th>\n",
       "      <td>3</td>\n",
       "      <td>20</td>\n",
       "    </tr>\n",
       "  </tbody>\n",
       "</table>\n",
       "</div>"
      ],
      "text/plain": [
       "     Common Powerplay  Common Powerball\n",
       "Jan                 4                26\n",
       "Feb                 4                25\n",
       "Mar                 4                23\n",
       "Apr                 5                24\n",
       "May                 5                24\n",
       "Jun                 5                23\n",
       "Jul                10                26\n",
       "Aug                10                24\n",
       "Sep                 4                24\n",
       "Oct                 3                26\n",
       "Nov                 2                26\n",
       "Dec                 3                20"
      ]
     },
     "execution_count": 20,
     "metadata": {},
     "output_type": "execute_result"
    }
   ],
   "source": [
    "# combine the two dataframes that hold the months together\n",
    "combined_common_months_2020 = pd.merge(powerplay_common_months_2020, powerball_common_months_2020, left_index=True, right_index=True)\n",
    "\n",
    "# Use calendar library for abbreviations and order\n",
    "month = dict((enumerate(calendar.month_abbr)))\n",
    "\n",
    "# rename function for index change\n",
    "combined_common_months_2020 = combined_common_months_2020.rename(index=month)\n",
    "\n",
    "combined_common_months_2020"
   ]
  },
  {
   "cell_type": "code",
   "execution_count": 21,
   "metadata": {},
   "outputs": [
    {
     "data": {
      "text/plain": [
       "<matplotlib.legend.Legend at 0x2e0b69e79d0>"
      ]
     },
     "execution_count": 21,
     "metadata": {},
     "output_type": "execute_result"
    },
    {
     "data": {
      "image/png": "[encoded data removed]",
      "text/plain": [
       "<Figure size 1000x500 with 1 Axes>"
      ]
     },
     "metadata": {},
     "output_type": "display_data"
    }
   ],
   "source": [
    "# Plot combined data for the Powerplay/Powerball for the month\n",
    "data = combined_common_months_2020.plot(kind = 'barh', ylabel = 'month', figsize = (10,5))\n",
    "data.set(xlabel = 'Most Played Number per Month')\n",
    "for c in data.containers:\n",
    "    data.bar_label(c, fmt = '%.0f', label_type = 'edge')\n",
    "data.margins(x = 0.1)\n",
    "data.legend(title = 'Lottery', bbox_to_anchor = (1, 1.02), loc = 'upper left')"
   ]
  },
  {
   "cell_type": "code",
   "execution_count": 22,
   "metadata": {},
   "outputs": [
    {
     "data": {
      "text/html": [
       "<div>\n",
       "<style scoped>\n",
       "    .dataframe tbody tr th:only-of-type {\n",
       "        vertical-align: middle;\n",
       "    }\n",
       "\n",
       "    .dataframe tbody tr th {\n",
       "        vertical-align: top;\n",
       "    }\n",
       "\n",
       "    .dataframe thead th {\n",
       "        text-align: right;\n",
       "    }\n",
       "</style>\n",
       "<table border=\"1\" class=\"dataframe\">\n",
       "  <thead>\n",
       "    <tr style=\"text-align: right;\">\n",
       "      <th></th>\n",
       "      <th>powerball</th>\n",
       "      <th>powerplay</th>\n",
       "    </tr>\n",
       "    <tr>\n",
       "      <th>weekday</th>\n",
       "      <th></th>\n",
       "      <th></th>\n",
       "    </tr>\n",
       "  </thead>\n",
       "  <tbody>\n",
       "    <tr>\n",
       "      <th>Sat</th>\n",
       "      <td>18</td>\n",
       "      <td>2</td>\n",
       "    </tr>\n",
       "    <tr>\n",
       "      <th>Wed</th>\n",
       "      <td>2</td>\n",
       "      <td>2</td>\n",
       "    </tr>\n",
       "  </tbody>\n",
       "</table>\n",
       "</div>"
      ],
      "text/plain": [
       "         powerball  powerplay\n",
       "weekday                      \n",
       "Sat             18          2\n",
       "Wed              2          2"
      ]
     },
     "execution_count": 22,
     "metadata": {},
     "output_type": "execute_result"
    }
   ],
   "source": [
    "# generate a new dataframe to hold year data for weekday, powerplay, powerball\n",
    "year_tot_common_2020 = wa_lottery_df_2020.copy()\n",
    "powerlist = ['powerball', 'powerplay']\n",
    "# use the same function as before to find the maxiumum value that is repeated over the entire year for powerplay and powerball\n",
    "year_common_powernums_2020= year_tot_common_2020.groupby('weekday')[powerlist].apply(lambda x: x.mode().max())\n",
    "\n",
    "year_common_powernums_2020"
   ]
  },
  {
   "cell_type": "code",
   "execution_count": 30,
   "metadata": {},
   "outputs": [
    {
     "name": "stdout",
     "output_type": "stream",
     "text": [
      "    Common Jackpot    Months\n",
      "1        394000000   January\n",
      "12       363000000  December\n",
      "11       216000000  November\n",
      "4        190000000     April\n",
      "8        169000000    August\n"
     ]
    }
   ],
   "source": [
    "# make a copy of the original DataFrame to manipulate\n",
    "month_lottery_df_2020 = wa_lottery_df_2020.copy()\n",
    "\n",
    "# convert the date column object(mm/dd/yyyy) into a datetime object (yyyy-mm-dd) [pandas reference: \n",
    "# https://pandas.pydata.org/docs/reference/api/pandas.to_datetime.html]\n",
    "month_lottery_df_2020['date'] = pd.to_datetime(month_lottery_df_2020['date'])\n",
    "\n",
    "# Now I can generate a new column that will hold the months \n",
    "# (ex: january == 1, february == 2)\n",
    "# [pandas.Series.dt = https://pandas.pydata.org/docs/reference/api/pandas.Series.dt.html]\n",
    "month_lottery_df_2020['month'] = month_lottery_df_2020['date'].dt.month\n",
    "\n",
    "# make a variable that holds a groupby function for month in\n",
    "# dataframe date_powerball_2020\n",
    "month = month_lottery_df_2020.groupby('month')\n",
    "\n",
    "# create an empty dictionary\n",
    "jackpot_common_2020 = {}\n",
    "\n",
    "# create a loop that will iterate through 1-12 (for the months).  \n",
    "for i in range(1, 13):\n",
    "    \n",
    "    #set a variable to hold the group by each month\n",
    "    month_data = month.get_group(i) \n",
    "    \n",
    "    # take the variable month_data find the greatest repeated value\n",
    "    jackpot_common_2020[i] = month_data['jackpot'].max()\n",
    "\n",
    "# I utilized pd.DataFrame.from_dict() from https://pandas.pydata.org/docs/reference/api/pandas.DataFrame.from_dict.html \n",
    "# to convert my dictionary from my for loop into a DataFrame.\n",
    "jackpot_common_months_2020 = pd.DataFrame.from_dict(jackpot_common_2020, orient='index', columns=['Common Jackpot'])\n",
    "\n",
    "# https://stackoverflow.com/questions/61842649/renaming-months-from-number-to-name-in-pandas\n",
    "# Utilizing pythons calendar function, converted the index to the abbreviated months\n",
    "# Use calendar library for month name\n",
    "month = dict((enumerate(calendar.month_name)))\n",
    "\n",
    "# add month to dataframe\n",
    "jackpot_common_months_2020['Months'] = month\n",
    "\n",
    "\n",
    "# Sort the schools by `% Overall Passing` in descending order and display the top 5 rows.\n",
    "top_months_jackpot = jackpot_common_months_2020.sort_values(by=['Common Jackpot'], ascending = False)\n",
    "\n",
    "\n",
    "print(top_months_jackpot.head(5))"
   ]
  },
  {
   "cell_type": "markdown",
   "metadata": {},
   "source": [
    "Appears I have November, December, and January are my highest value months to win the jackpot.  Possible people have more spending money because of holiday bonuses leading into the holiday season so more money is poured into the gambling system."
   ]
  },
  {
   "cell_type": "code",
   "execution_count": 24,
   "metadata": {},
   "outputs": [
    {
     "data": {
      "text/plain": [
       "weekday\n",
       "Sat    373000000\n",
       "Wed    394000000\n",
       "Name: jackpot, dtype: int64"
      ]
     },
     "execution_count": 24,
     "metadata": {},
     "output_type": "execute_result"
    }
   ],
   "source": [
    "# Generated a new dataframe that holds only the two columns 'weekday' + 'jackpot'\n",
    "weekday_powerball_2020 = wa_lottery_df_2020[['weekday', 'jackpot']]\n",
    "\n",
    "# find the highest jackpot\n",
    "powerball_grouped_2020 = weekday_powerball_2020.groupby('weekday')['jackpot'].apply(lambda x: x.max())\n",
    "\n",
    "powerball_grouped_2020"
   ]
  },
  {
   "cell_type": "code",
   "execution_count": 25,
   "metadata": {},
   "outputs": [],
   "source": [
    "# scatter plot every wednesday for the year of 2020 to show the greatest "
   ]
  },
  {
   "cell_type": "code",
   "execution_count": null,
   "metadata": {},
   "outputs": [],
   "source": []
  }
 ],
 "metadata": {
  "kernelspec": {
   "display_name": "Python 3 (ipykernel)",
   "language": "python",
   "name": "python3"
  },
  "language_info": {
   "codemirror_mode": {
    "name": "ipython",
    "version": 3
   },
   "file_extension": ".py",
   "mimetype": "text/x-python",
   "name": "python",
   "nbconvert_exporter": "python",
   "pygments_lexer": "ipython3",
   "version": "3.10.9"
  }
 },
 "nbformat": 4,
 "nbformat_minor": 2
}
