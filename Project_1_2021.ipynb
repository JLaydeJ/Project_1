{
 "cells": [
  {
   "cell_type": "code",
   "execution_count": 3,
   "metadata": {},
   "outputs": [],
   "source": [
    "# Dependencies and Setup\n",
    "import pandas as pd\n",
    "from pathlib import Path\n",
    "import matplotlib.pyplot as plt\n",
    "import scipy.stats as st\n",
    "import numpy as np\n",
    "from datetime import datetime\n"
   ]
  },
  {
   "cell_type": "code",
   "execution_count": 4,
   "metadata": {
    "scrolled": true
   },
   "outputs": [
    {
     "data": {
      "text/html": [
       "<div>\n",
       "<style scoped>\n",
       "    .dataframe tbody tr th:only-of-type {\n",
       "        vertical-align: middle;\n",
       "    }\n",
       "\n",
       "    .dataframe tbody tr th {\n",
       "        vertical-align: top;\n",
       "    }\n",
       "\n",
       "    .dataframe thead th {\n",
       "        text-align: right;\n",
       "    }\n",
       "</style>\n",
       "<table border=\"1\" class=\"dataframe\">\n",
       "  <thead>\n",
       "    <tr style=\"text-align: right;\">\n",
       "      <th></th>\n",
       "      <th>date</th>\n",
       "      <th>weekday</th>\n",
       "      <th>winning_numbers</th>\n",
       "      <th>powerball</th>\n",
       "      <th>powerplay</th>\n",
       "      <th>jackpot</th>\n",
       "    </tr>\n",
       "  </thead>\n",
       "  <tbody>\n",
       "    <tr>\n",
       "      <th>0</th>\n",
       "      <td>1/2/2021</td>\n",
       "      <td>Sat</td>\n",
       "      <td>3-4-11-41-67</td>\n",
       "      <td>5</td>\n",
       "      <td>2</td>\n",
       "      <td>384000000</td>\n",
       "    </tr>\n",
       "    <tr>\n",
       "      <th>1</th>\n",
       "      <td>1/6/2021</td>\n",
       "      <td>Wed</td>\n",
       "      <td>1-20-22-60-66</td>\n",
       "      <td>3</td>\n",
       "      <td>3</td>\n",
       "      <td>410000000</td>\n",
       "    </tr>\n",
       "    <tr>\n",
       "      <th>2</th>\n",
       "      <td>1/9/2021</td>\n",
       "      <td>Sat</td>\n",
       "      <td>14-26-38-45-46</td>\n",
       "      <td>13</td>\n",
       "      <td>2</td>\n",
       "      <td>470000000</td>\n",
       "    </tr>\n",
       "    <tr>\n",
       "      <th>3</th>\n",
       "      <td>1/13/2021</td>\n",
       "      <td>Wed</td>\n",
       "      <td>4-19-23-25-49</td>\n",
       "      <td>14</td>\n",
       "      <td>2</td>\n",
       "      <td>550000000</td>\n",
       "    </tr>\n",
       "    <tr>\n",
       "      <th>4</th>\n",
       "      <td>1/16/2021</td>\n",
       "      <td>Sat</td>\n",
       "      <td>14-20-39-65-67</td>\n",
       "      <td>2</td>\n",
       "      <td>3</td>\n",
       "      <td>640000000</td>\n",
       "    </tr>\n",
       "    <tr>\n",
       "      <th>5</th>\n",
       "      <td>1/20/2021</td>\n",
       "      <td>Wed</td>\n",
       "      <td>40-53-60-68-69</td>\n",
       "      <td>22</td>\n",
       "      <td>3</td>\n",
       "      <td>730000000</td>\n",
       "    </tr>\n",
       "    <tr>\n",
       "      <th>6</th>\n",
       "      <td>1/23/2021</td>\n",
       "      <td>Sat</td>\n",
       "      <td>5-8-17-27-28</td>\n",
       "      <td>14</td>\n",
       "      <td>3</td>\n",
       "      <td>20000000</td>\n",
       "    </tr>\n",
       "    <tr>\n",
       "      <th>7</th>\n",
       "      <td>1/27/2021</td>\n",
       "      <td>Wed</td>\n",
       "      <td>17-33-35-42-52</td>\n",
       "      <td>9</td>\n",
       "      <td>3</td>\n",
       "      <td>20000000</td>\n",
       "    </tr>\n",
       "    <tr>\n",
       "      <th>8</th>\n",
       "      <td>1/30/2021</td>\n",
       "      <td>Sat</td>\n",
       "      <td>1-2-7-52-61</td>\n",
       "      <td>4</td>\n",
       "      <td>3</td>\n",
       "      <td>30000000</td>\n",
       "    </tr>\n",
       "    <tr>\n",
       "      <th>9</th>\n",
       "      <td>2/3/2021</td>\n",
       "      <td>Wed</td>\n",
       "      <td>5-37-40-64-66</td>\n",
       "      <td>5</td>\n",
       "      <td>3</td>\n",
       "      <td>20000000</td>\n",
       "    </tr>\n",
       "  </tbody>\n",
       "</table>\n",
       "</div>"
      ],
      "text/plain": [
       "        date weekday winning_numbers  powerball  powerplay    jackpot\n",
       "0   1/2/2021     Sat    3-4-11-41-67          5          2  384000000\n",
       "1   1/6/2021     Wed   1-20-22-60-66          3          3  410000000\n",
       "2   1/9/2021     Sat  14-26-38-45-46         13          2  470000000\n",
       "3  1/13/2021     Wed   4-19-23-25-49         14          2  550000000\n",
       "4  1/16/2021     Sat  14-20-39-65-67          2          3  640000000\n",
       "5  1/20/2021     Wed  40-53-60-68-69         22          3  730000000\n",
       "6  1/23/2021     Sat    5-8-17-27-28         14          3   20000000\n",
       "7  1/27/2021     Wed  17-33-35-42-52          9          3   20000000\n",
       "8  1/30/2021     Sat     1-2-7-52-61          4          3   30000000\n",
       "9   2/3/2021     Wed   5-37-40-64-66          5          3   20000000"
      ]
     },
     "execution_count": 4,
     "metadata": {},
     "output_type": "execute_result"
    }
   ],
   "source": [
    "# 2021 Lottery data file\n",
    "wa_lottery_to_load = Path(\"Resources/2021_lottery_data.csv\")\n",
    "\n",
    "# Read the lottery data file and convert into a single DataFrame\n",
    "wa_lottery_df = pd.read_csv(wa_lottery_to_load)\n",
    "\n",
    "# Display the data table for preview\n",
    "wa_lottery_df.head(10)\n",
    "#"
   ]
  },
  {
   "cell_type": "code",
   "execution_count": 165,
   "metadata": {},
   "outputs": [
    {
     "name": "stdout",
     "output_type": "stream",
     "text": [
      "  weekday  level_1  powerball\n",
      "0     Mon        0          8\n",
      "1     Mon        1         24\n",
      "2     Sat        0          3\n",
      "3     Sat        1          4\n",
      "4     Wed        0          1\n",
      "5     Wed        1         14\n",
      "  weekday  level_1  powerplay\n",
      "0     Mon        0          2\n",
      "1     Sat        0          2\n",
      "2     Wed        0          2\n"
     ]
    }
   ],
   "source": [
    "# Create bar plot showing the most played powerball/powerplay number for each weekday using Pandas.\n",
    "# Need to use .groupby plus .value_counts to get the number of powerball/powerplay plays for each weekday\n",
    "weekday_powerball_total = wa_lottery_df.groupby([\"weekday\"])[\"powerball\"].apply(lambda x: x.mode())\n",
    "weekday_powerplay_total = wa_lottery_df.groupby([\"weekday\"])[\"powerplay\"].apply(lambda x: x.mode())\n",
    "\n",
    "\n",
    "# Take .max to find most played powerball/powerplay number \n",
    "#max_powerball = weekday_powerball_total.groupby([\"weekday\"]).apply(lambda x: x.mode())\n",
    "#max_powerplay = weekday_powerplay_total.groupby([\"weekday\"])\n",
    "\n",
    "\n",
    "# Assemble the resulting index into a single summary DataFrame.\n",
    "#weekday_combined_df = pd.Series({\"Powerball Weekday Max\": max_powerball,\n",
    "                                    #\"Powerplay Weekday Max\": max_powerplay})\n",
    "\n",
    "#Split both dataframes from ( , ) to two new columns\n",
    "#weekday_powerball_split_df = pd.DataFrame(weekday_combined_df[\"Powerball Weekday Max\"].tolist(), columns = [\"Weekday\",\"Powerball Most Played Number\"])\n",
    "#weekday_powerplay_split_df = pd.DataFrame(weekday_combined_df[\"Powerplay Weekday Max\"].tolist(), columns = [\"Weekday\",\"Powerplay Most Played Number\"])\n",
    "\n",
    "# Merge both dataframes together \n",
    "#most_played_per_day_df = weekday_powerball_split_df.merge(weekday_powerplay_split_df, how = \"left\")\n",
    "\n",
    "#Convert Powerball Most Played Number and \tPowerpplay Most Played Number to int for ploting\n",
    "#most_played_per_day_df[\"Powerball Most Played Number\"] = most_played_per_day_df[\"Powerball Most Played Number\"].astype(int)\n",
    "#most_played_per_day_df[\"Powerplay Most Played Number\"] = most_played_per_day_df[\"Powerplay Most Played Number\"].astype(int)\n",
    "\n",
    "# Display the data table for preview\n",
    "print(weekday_powerball_total.reset_index())\n",
    "print(weekday_powerplay_total.reset_index())"
   ]
  },
  {
   "cell_type": "code",
   "execution_count": 7,
   "metadata": {},
   "outputs": [
    {
     "data": {
      "text/plain": [
       "<matplotlib.legend.Legend at 0x2c371b9a290>"
      ]
     },
     "execution_count": 7,
     "metadata": {},
     "output_type": "execute_result"
    },
    {
     "data": {
      "image/png": "[encoded data removed]",
      "text/plain": [
       "<Figure size 640x480 with 1 Axes>"
      ]
     },
     "metadata": {},
     "output_type": "display_data"
    }
   ],
   "source": [
    "# Plot bar chart\n",
    "data = most_played_per_day_df.plot(x=\"Weekday\", y=[\"Powerball Most Played Number\", \"Powerplay Most Played Number\"], kind = \"barh\")\n",
    "data.set(xlabel = 'Most Played Number Per Day')\n",
    "data.legend(title = 'Lottery', bbox_to_anchor = (1, 1.02), loc = 'upper left')\n"
   ]
  },
  {
   "cell_type": "code",
   "execution_count": null,
   "metadata": {},
   "outputs": [],
   "source": []
  },
  {
   "cell_type": "code",
   "execution_count": 171,
   "metadata": {},
   "outputs": [
    {
     "name": "stdout",
     "output_type": "stream",
     "text": [
      "month       \n",
      "April      0     3\n",
      "           1     5\n",
      "           2     6\n",
      "           3    14\n",
      "           4    16\n",
      "           5    21\n",
      "           6    22\n",
      "           7    25\n",
      "August     0    26\n",
      "December   0     2\n",
      "February   0     1\n",
      "           1     4\n",
      "           2     5\n",
      "           3     7\n",
      "           4     8\n",
      "           5    18\n",
      "           6    20\n",
      "           7    21\n",
      "January    0    14\n",
      "July       0     3\n",
      "           1    10\n",
      "June       0     1\n",
      "           1     9\n",
      "           2    10\n",
      "           3    14\n",
      "           4    17\n",
      "           5    19\n",
      "           6    20\n",
      "           7    25\n",
      "           8    26\n",
      "March      0    18\n",
      "May        0     8\n",
      "November   0     8\n",
      "           1     9\n",
      "           2    17\n",
      "October    0     1\n",
      "           1     5\n",
      "           2    15\n",
      "           3    24\n",
      "September  0    21\n",
      "Name: powerball, dtype: int64\n"
     ]
    }
   ],
   "source": [
    "# Create bar plot showing the most played powerball/powerplay number for each month using Pandas.\n",
    "# Take a copy of the orginal dataframe \"date\", \"powerball\", \"powerplay\", \"jackpot\" values\n",
    "lottery_date_df = wa_lottery_df[[\"date\", \"powerball\", \"powerplay\", \"jackpot\"]].copy()\n",
    "\n",
    "# convert the date column from(mm/dd/yyyy) to (yyyy-mm-dd)\n",
    "lottery_date_df[\"date\"] = pd.to_datetime(lottery_date_df[\"date\"])\n",
    "\n",
    "# Create a new column called month that determines the month based on date \n",
    "# https://stackoverflow.com/questions/44908383/how-can-i-group-by-month-from-a-date-field-using-python-and-pandas\n",
    "lottery_date_df[\"month\"] = lottery_date_df[\"date\"].apply(lambda x:x.strftime(\"%B\"))\n",
    "\n",
    "# Need to use .groupby plus .value_counts to get the number of powerball/powerplay plays for each month\n",
    "powerball_by_month = lottery_date_df.groupby([\"month\"])[\"powerball\"].apply(lambda x: x.mode())\n",
    "powerplay_by_month = lottery_date_df.groupby([\"month\"])[\"powerplay\"].apply(lambda x: x.mode())\n",
    "\n",
    "# Take .max to find most played powerball/powerplay number for each month\n",
    "#max_month_powerball = powerball_by_month.groupby([\"month\"]).idxmax\n",
    "#max_month_powerplay = powerplay_by_month.groupby([\"month\"]).idxmax\n",
    "\n",
    "\n",
    "# Assemble the resulting series into a single summary DataFrame\n",
    "#combined_df = pd.DataFrame({\"Powerball Month Max\": max_month_powerball, \n",
    "                            #\"Powerplay Month Max\": max_month_powerplay})\n",
    "\n",
    "# Split dataframes into two dataframe then convet data from ( , ) to two new columns\n",
    "#powerball_split_df = pd.DataFrame(combined_df[\"Powerball Month Max\"].tolist(), columns = [\"Months\",\"Powerball Most Played Number\"])\n",
    "#powerplay_split_df = pd.DataFrame(combined_df[\"Powerplay Month Max\"].tolist(), columns = [\"Months\",\"Powerplay Most Played Number\"])\n",
    "\n",
    "# Data has already been converted to int\n",
    "# Merge both dataframes together \n",
    "#most_played_per_month_df = powerball_split_df.merge(powerplay_split_df, how = \"left\")\n",
    "\n",
    "# Categorize Dataframe by Month (\"Jan\", \"Feb\"....\"Dec\")\n",
    "# https://stackoverflow.com/questions/67472895/creating-using-categorical-data-type-with-pandas\n",
    "#most_played_per_month_df[\"Months\"] = pd.Categorical(most_played_per_month_df[\"Months\"], categories = [\"January\", \"February\", \"March\", \"April\", \"May\", \"June\", \n",
    "                                                                                                        #\"July\", \"August\", \"September\", \n",
    "                                                                                                        #\"October\", \"November\", \"December\"], ordered = True)\n",
    "# Sort DataFrame by months and reset index                                                    \n",
    "#most_played_per_month_df.sort_values([\"Months\"]).reset_index(drop = True)\n",
    "\n",
    "# Display the data table for preview\n",
    "print(powerball_by_month)\n",
    "#print(powerball_by_month)\n"
   ]
  },
  {
   "cell_type": "code",
   "execution_count": 64,
   "metadata": {},
   "outputs": [
    {
     "data": {
      "text/plain": [
       "<matplotlib.legend.Legend at 0x2c378011de0>"
      ]
     },
     "execution_count": 64,
     "metadata": {},
     "output_type": "execute_result"
    },
    {
     "data": {
      "image/png": "[encoded data removed]",
      "text/plain": [
       "<Figure size 640x480 with 1 Axes>"
      ]
     },
     "metadata": {},
     "output_type": "display_data"
    }
   ],
   "source": [
    "# Plot bar chart\n",
    "data2 = most_played_per_month_df.plot(x=\"Months\", y=[\"Powerball Most Played Number\", \"Powerplay Most Played Number\"], kind = \"barh\")\n",
    "data2.set(xlabel = 'Most Played Number Per Month')\n",
    "data2.legend(title = 'Lottery', bbox_to_anchor = (1, 1.02), loc = 'upper left')\n"
   ]
  },
  {
   "cell_type": "code",
   "execution_count": 141,
   "metadata": {},
   "outputs": [
    {
     "name": "stdout",
     "output_type": "stream",
     "text": [
      "Most played powerball number : 24\n",
      "Most played powerplay number : 2\n"
     ]
    }
   ],
   "source": [
    "# Create bar plot showing the most played powerball/powerplay number overall.\n",
    "# Need to use .value_counts to get the number of powerball/powerplay plays for entire data set\n",
    "# Take .max to find most played powerball/powerplay number \n",
    "powerball_total = wa_lottery_df[\"powerball\"].value_counts().idxmax()\n",
    "powerplay_total = wa_lottery_df[\"powerplay\"].value_counts().idxmax()\n",
    "\n",
    "#Print results\n",
    "print(f'Most played powerball number : {powerball_total}')\n",
    "print(f'Most played powerplay number : {powerplay_total}')"
   ]
  },
  {
   "cell_type": "code",
   "execution_count": 67,
   "metadata": {},
   "outputs": [
    {
     "data": {
      "text/html": [
       "<div>\n",
       "<style scoped>\n",
       "    .dataframe tbody tr th:only-of-type {\n",
       "        vertical-align: middle;\n",
       "    }\n",
       "\n",
       "    .dataframe tbody tr th {\n",
       "        vertical-align: top;\n",
       "    }\n",
       "\n",
       "    .dataframe thead th {\n",
       "        text-align: right;\n",
       "    }\n",
       "</style>\n",
       "<table border=\"1\" class=\"dataframe\">\n",
       "  <thead>\n",
       "    <tr style=\"text-align: right;\">\n",
       "      <th></th>\n",
       "      <th>Months</th>\n",
       "      <th>Highest Jackpot Per Month</th>\n",
       "    </tr>\n",
       "  </thead>\n",
       "  <tbody>\n",
       "    <tr>\n",
       "      <th>0</th>\n",
       "      <td>September</td>\n",
       "      <td>345000000</td>\n",
       "    </tr>\n",
       "    <tr>\n",
       "      <th>1</th>\n",
       "      <td>December</td>\n",
       "      <td>264000000</td>\n",
       "    </tr>\n",
       "    <tr>\n",
       "      <th>2</th>\n",
       "      <td>August</td>\n",
       "      <td>211000000</td>\n",
       "    </tr>\n",
       "    <tr>\n",
       "      <th>3</th>\n",
       "      <td>May</td>\n",
       "      <td>129000000</td>\n",
       "    </tr>\n",
       "    <tr>\n",
       "      <th>4</th>\n",
       "      <td>November</td>\n",
       "      <td>123000000</td>\n",
       "    </tr>\n",
       "  </tbody>\n",
       "</table>\n",
       "</div>"
      ],
      "text/plain": [
       "      Months  Highest Jackpot Per Month\n",
       "0  September                  345000000\n",
       "1   December                  264000000\n",
       "2     August                  211000000\n",
       "3        May                  129000000\n",
       "4   November                  123000000"
      ]
     },
     "execution_count": 67,
     "metadata": {},
     "output_type": "execute_result"
    }
   ],
   "source": [
    "# Find the top 3 months with highest jackpot\n",
    "# Take a copy of lottery_date_df dataframe \"date\" and \"jackpot\" values\n",
    "jackpot_df = lottery_date_df[[\"date\", \"jackpot\"]].copy()\n",
    "\n",
    "# Create a new column called month that determines the month based on date \n",
    "# https://stackoverflow.com/questions/44908383/how-can-i-group-by-month-from-a-date-field-using-python-and-pandas\n",
    "jackpot_df[\"month\"] = jackpot_df[\"date\"].apply(lambda x:x.strftime(\"%B\"))\n",
    "\n",
    "# Need to use .groupby plus .value_counts to get the number of powerball/powerplay plays for each month\n",
    "jackpot_by_month = lottery_date_df.groupby([\"month\"])[\"jackpot\"].value_counts()\n",
    "\n",
    "# Take .max to find most played powerball/powerplay number for each month\n",
    "max_jackpot_powerball = jackpot_by_month.groupby([\"month\"]).idxmax().values\n",
    "\n",
    "# Assemble the resulting series into a single summary DataFrame\n",
    "combined_jackpot_df = pd.DataFrame({\"Data\": max_jackpot_powerball})\n",
    "\n",
    "# Split dataframes into two dataframe then convet data from ( , ) to two new columns\n",
    "jackpot_split_df = pd.DataFrame(combined_jackpot_df[\"Data\"].tolist(), columns = [\"Months\",\"Highest Jackpot Per Month\"])\n",
    "\n",
    "# Convert Powerball Most Played Number and \tPowerpplay Most Played Number to int for ploting\n",
    "jackpot_split_df[\"Highest Jackpot Per Month\"] = jackpot_split_df[\"Highest Jackpot Per Month\"].astype(int)\n",
    "\n",
    "# Categorize Dataframe by Month (\"Jan\", \"Feb\"....\"Dec\")\n",
    "# https://stackoverflow.com/questions/67472895/creating-using-categorical-data-type-with-pandas\n",
    "jackpot_split_df[\"Months\"] = pd.Categorical(jackpot_split_df[\"Months\"], categories = [\"January\", \"February\", \"March\", \"April\", \"May\", \"June\", \n",
    "                                                                                                        \"July\", \"August\", \"September\", \n",
    "                                                                                                        \"October\", \"November\", \"December\"], ordered = True)\n",
    "# Sort DataFrame by months and reset index \n",
    "jackpot_df = jackpot_split_df.sort_values([\"Months\"]).reset_index(drop = True)\n",
    "\n",
    "# Sort the schools by `Highest Jackpot Per Month' in ascending order and display the top 5 rows.\n",
    "top_5_jackpot = jackpot_df.sort_values(by = \"Highest Jackpot Per Month\", ascending=False)\n",
    "\n",
    "# Display the data table for preview\n",
    "top_5_jackpot.head(5).reset_index(drop = True)"
   ]
  },
  {
   "cell_type": "code",
   "execution_count": 72,
   "metadata": {},
   "outputs": [
    {
     "data": {
      "text/html": [
       "<div>\n",
       "<style scoped>\n",
       "    .dataframe tbody tr th:only-of-type {\n",
       "        vertical-align: middle;\n",
       "    }\n",
       "\n",
       "    .dataframe tbody tr th {\n",
       "        vertical-align: top;\n",
       "    }\n",
       "\n",
       "    .dataframe thead th {\n",
       "        text-align: right;\n",
       "    }\n",
       "</style>\n",
       "<table border=\"1\" class=\"dataframe\">\n",
       "  <thead>\n",
       "    <tr style=\"text-align: right;\">\n",
       "      <th></th>\n",
       "      <th>Weekday</th>\n",
       "      <th>Jackpot Weekday Max Value</th>\n",
       "    </tr>\n",
       "  </thead>\n",
       "  <tbody>\n",
       "    <tr>\n",
       "      <th>0</th>\n",
       "      <td>Mon</td>\n",
       "      <td>416000000</td>\n",
       "    </tr>\n",
       "    <tr>\n",
       "      <th>1</th>\n",
       "      <td>Sat</td>\n",
       "      <td>30000000</td>\n",
       "    </tr>\n",
       "    <tr>\n",
       "      <th>2</th>\n",
       "      <td>Wed</td>\n",
       "      <td>20000000</td>\n",
       "    </tr>\n",
       "  </tbody>\n",
       "</table>\n",
       "</div>"
      ],
      "text/plain": [
       "  Weekday  Jackpot Weekday Max Value\n",
       "0     Mon                  416000000\n",
       "1     Sat                   30000000\n",
       "2     Wed                   20000000"
      ]
     },
     "execution_count": 72,
     "metadata": {},
     "output_type": "execute_result"
    }
   ],
   "source": [
    "# Take a copy of the orginal dataframe \"weekday\" amd \"jackpot\" values\n",
    "jackpot_weekday_df = wa_lottery_df[[\"weekday\", \"jackpot\"]]\n",
    "\n",
    "# Need to use .groupby plus .value_counts to get the jackpot for each weekday\n",
    "jackpot_weekday_total = jackpot_weekday_df.groupby([\"weekday\"])[\"jackpot\"].value_counts()\n",
    "\n",
    "# Take .max to find most played powerball/powerplay number \n",
    "max_jackpot_weekday = jackpot_weekday_total.groupby([\"weekday\"]).idxmax().values\n",
    "\n",
    "\n",
    "# Assemble the resulting index into a single summary DataFrame.\n",
    "jackpot_weekday_combined_df = pd.DataFrame({\"Jackpot Weekday Max\": max_jackpot_weekday})\n",
    "\n",
    "#Split both dataframes from ( , ) to two new columns\n",
    "weekday_jackpot_max_df = pd.DataFrame(jackpot_weekday_combined_df[\"Jackpot Weekday Max\"].tolist(), columns = [\"Weekday\",\"Jackpot Weekday Max Value\"])\n",
    "\n",
    "# Display the data table for preview\n",
    "weekday_jackpot_max_df"
   ]
  },
  {
   "cell_type": "code",
   "execution_count": 49,
   "metadata": {},
   "outputs": [
    {
     "data": {
      "image/png": "[encoded data removed]",
      "text/plain": [
       "<Figure size 640x480 with 1 Axes>"
      ]
     },
     "metadata": {},
     "output_type": "display_data"
    },
    {
     "data": {
      "text/plain": [
       "<Figure size 640x480 with 0 Axes>"
      ]
     },
     "metadata": {},
     "output_type": "display_data"
    }
   ],
   "source": [
    "# Plot bar chart\n",
    "Weekday = [\"Mon\", \"Wed\", \"Sat\"]\n",
    "Jackpot  = [416000000, 30000000, 20000000]\n",
    "x_axis = np.arange(0, len(Jackpot))\n",
    "tick_locations = [x for x in x_axis]\n",
    "\n",
    "# Use #1f77b4 for default blue to match bar chart above\n",
    "plt.bar(x_axis, Jackpot, color=\"#1f77b4\", alpha=0.75, align=\"center\")\n",
    "\n",
    "# Set the xlimit and ylimit \n",
    "plt.xlim(-0.75, len(x_axis)-0.25)\n",
    "plt.ylim(0, max(Jackpot) + 25000000)\n",
    "\n",
    "# Set the xlabel and ylabel \n",
    "plt.xlabel(\"Weekday\")\n",
    "plt.ylabel(\"Weekday Max Jackpot\")\n",
    "\n",
    "# Set tick location\n",
    "plt.xticks(tick_locations, Weekday, rotation = 90)\n",
    "\n",
    "plt.show()\n",
    "plt.tight_layout()"
   ]
  },
  {
   "cell_type": "code",
   "execution_count": null,
   "metadata": {},
   "outputs": [],
   "source": []
  }
 ],
 "metadata": {
  "kernelspec": {
   "display_name": "Python 3 (ipykernel)",
   "language": "python",
   "name": "python3"
  },
  "language_info": {
   "codemirror_mode": {
    "name": "ipython",
    "version": 3
   },
   "file_extension": ".py",
   "mimetype": "text/x-python",
   "name": "python",
   "nbconvert_exporter": "python",
   "pygments_lexer": "ipython3",
   "version": "3.10.11"
  }
 },
 "nbformat": 4,
 "nbformat_minor": 2
}
