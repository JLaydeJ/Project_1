{
 "cells": [
  {
   "cell_type": "code",
   "execution_count": 15,
   "metadata": {},
   "outputs": [],
   "source": [
    "# Dependencies and Setup\n",
    "import pandas as pd\n",
    "from pathlib import Path\n",
    "import matplotlib.pyplot as plt\n",
    "import scipy.stats as st\n",
    "import numpy as np\n",
    "\n"
   ]
  },
  {
   "cell_type": "code",
   "execution_count": 16,
   "metadata": {
    "scrolled": true
   },
   "outputs": [
    {
     "data": {
      "text/html": [
       "<div>\n",
       "<style scoped>\n",
       "    .dataframe tbody tr th:only-of-type {\n",
       "        vertical-align: middle;\n",
       "    }\n",
       "\n",
       "    .dataframe tbody tr th {\n",
       "        vertical-align: top;\n",
       "    }\n",
       "\n",
       "    .dataframe thead th {\n",
       "        text-align: right;\n",
       "    }\n",
       "</style>\n",
       "<table border=\"1\" class=\"dataframe\">\n",
       "  <thead>\n",
       "    <tr style=\"text-align: right;\">\n",
       "      <th></th>\n",
       "      <th>date</th>\n",
       "      <th>weekday</th>\n",
       "      <th>winning_numbers</th>\n",
       "      <th>powerball</th>\n",
       "      <th>powerplay</th>\n",
       "      <th>jackpot</th>\n",
       "    </tr>\n",
       "  </thead>\n",
       "  <tbody>\n",
       "    <tr>\n",
       "      <th>0</th>\n",
       "      <td>1/2/2021</td>\n",
       "      <td>Sat</td>\n",
       "      <td>3-4-11-41-67</td>\n",
       "      <td>5</td>\n",
       "      <td>2</td>\n",
       "      <td>384000000</td>\n",
       "    </tr>\n",
       "    <tr>\n",
       "      <th>1</th>\n",
       "      <td>1/6/2021</td>\n",
       "      <td>Wed</td>\n",
       "      <td>1-20-22-60-66</td>\n",
       "      <td>3</td>\n",
       "      <td>3</td>\n",
       "      <td>410000000</td>\n",
       "    </tr>\n",
       "    <tr>\n",
       "      <th>2</th>\n",
       "      <td>1/9/2021</td>\n",
       "      <td>Sat</td>\n",
       "      <td>14-26-38-45-46</td>\n",
       "      <td>13</td>\n",
       "      <td>2</td>\n",
       "      <td>470000000</td>\n",
       "    </tr>\n",
       "    <tr>\n",
       "      <th>3</th>\n",
       "      <td>1/13/2021</td>\n",
       "      <td>Wed</td>\n",
       "      <td>4-19-23-25-49</td>\n",
       "      <td>14</td>\n",
       "      <td>2</td>\n",
       "      <td>550000000</td>\n",
       "    </tr>\n",
       "    <tr>\n",
       "      <th>4</th>\n",
       "      <td>1/16/2021</td>\n",
       "      <td>Sat</td>\n",
       "      <td>14-20-39-65-67</td>\n",
       "      <td>2</td>\n",
       "      <td>3</td>\n",
       "      <td>640000000</td>\n",
       "    </tr>\n",
       "    <tr>\n",
       "      <th>...</th>\n",
       "      <td>...</td>\n",
       "      <td>...</td>\n",
       "      <td>...</td>\n",
       "      <td>...</td>\n",
       "      <td>...</td>\n",
       "      <td>...</td>\n",
       "    </tr>\n",
       "    <tr>\n",
       "      <th>118</th>\n",
       "      <td>12/20/2021</td>\n",
       "      <td>Mon</td>\n",
       "      <td>2-13-23-34-66</td>\n",
       "      <td>2</td>\n",
       "      <td>4</td>\n",
       "      <td>363000000</td>\n",
       "    </tr>\n",
       "    <tr>\n",
       "      <th>119</th>\n",
       "      <td>12/22/2021</td>\n",
       "      <td>Wed</td>\n",
       "      <td>7-16-19-48-68</td>\n",
       "      <td>15</td>\n",
       "      <td>2</td>\n",
       "      <td>378000000</td>\n",
       "    </tr>\n",
       "    <tr>\n",
       "      <th>120</th>\n",
       "      <td>12/25/2021</td>\n",
       "      <td>Sat</td>\n",
       "      <td>27-29-45-55-58</td>\n",
       "      <td>2</td>\n",
       "      <td>3</td>\n",
       "      <td>400000000</td>\n",
       "    </tr>\n",
       "    <tr>\n",
       "      <th>121</th>\n",
       "      <td>12/27/2021</td>\n",
       "      <td>Mon</td>\n",
       "      <td>36-38-45-62-64</td>\n",
       "      <td>19</td>\n",
       "      <td>2</td>\n",
       "      <td>416000000</td>\n",
       "    </tr>\n",
       "    <tr>\n",
       "      <th>122</th>\n",
       "      <td>12/29/2021</td>\n",
       "      <td>Wed</td>\n",
       "      <td>2-6-9-33-39</td>\n",
       "      <td>11</td>\n",
       "      <td>2</td>\n",
       "      <td>441000000</td>\n",
       "    </tr>\n",
       "  </tbody>\n",
       "</table>\n",
       "<p>123 rows × 6 columns</p>\n",
       "</div>"
      ],
      "text/plain": [
       "           date weekday winning_numbers  powerball  powerplay    jackpot\n",
       "0      1/2/2021     Sat    3-4-11-41-67          5          2  384000000\n",
       "1      1/6/2021     Wed   1-20-22-60-66          3          3  410000000\n",
       "2      1/9/2021     Sat  14-26-38-45-46         13          2  470000000\n",
       "3     1/13/2021     Wed   4-19-23-25-49         14          2  550000000\n",
       "4     1/16/2021     Sat  14-20-39-65-67          2          3  640000000\n",
       "..          ...     ...             ...        ...        ...        ...\n",
       "118  12/20/2021     Mon   2-13-23-34-66          2          4  363000000\n",
       "119  12/22/2021     Wed   7-16-19-48-68         15          2  378000000\n",
       "120  12/25/2021     Sat  27-29-45-55-58          2          3  400000000\n",
       "121  12/27/2021     Mon  36-38-45-62-64         19          2  416000000\n",
       "122  12/29/2021     Wed     2-6-9-33-39         11          2  441000000\n",
       "\n",
       "[123 rows x 6 columns]"
      ]
     },
     "execution_count": 16,
     "metadata": {},
     "output_type": "execute_result"
    }
   ],
   "source": [
    "# 2021 Lottery data file\n",
    "wa_lottery_to_load = Path(\"Resources/2021_lottery_data.csv\")\n",
    "\n",
    "#Read the lottery data file and convert into a single DataFrame\n",
    "wa_lottery_df = pd.read_csv(wa_lottery_to_load)\n",
    "\n",
    "# Display the data table for preview\n",
    "wa_lottery_df"
   ]
  },
  {
   "cell_type": "code",
   "execution_count": 55,
   "metadata": {},
   "outputs": [
    {
     "data": {
      "text/plain": [
       "weekday\n",
       "Mon    3\n",
       "Sat    5\n",
       "Wed    5\n",
       "Name: powerball, dtype: int64"
      ]
     },
     "execution_count": 55,
     "metadata": {},
     "output_type": "execute_result"
    }
   ],
   "source": [
    "# Created bar plot showing the most played powerball/powerplay number for each weekday using Pandas.\n",
    "# Need to use .groupby plus .count to get the number of powerball plays for each weekday\n",
    "weekday_powerball_total = wa_lottery_df.groupby([\"weekday\"])[\"powerball\"].value_counts()\n",
    "\n",
    "#Take .max to find most played powerball number \n",
    "max_powerball = weekday_total.groupby([\"weekday\"]).max()\n",
    "max_powerball"
   ]
  },
  {
   "cell_type": "code",
   "execution_count": 54,
   "metadata": {},
   "outputs": [
    {
     "data": {
      "text/plain": [
       "weekday\n",
       "Mon    12\n",
       "Sat    30\n",
       "Wed    28\n",
       "Name: powerplay, dtype: int64"
      ]
     },
     "execution_count": 54,
     "metadata": {},
     "output_type": "execute_result"
    }
   ],
   "source": [
    "# Need to use .groupby plus .count to get the number of powerplay plays for each weekday\n",
    "weekday_powerplay_total = wa_lottery_df.groupby([\"weekday\"])[\"powerplay\"].value_counts()\n",
    "\n",
    "#Take .max to find most played powerplay number \n",
    "most_powerplay = bar_chart_grouped.groupby([\"weekday\"]).max()\n",
    "max_powerplay"
   ]
  },
  {
   "cell_type": "code",
   "execution_count": null,
   "metadata": {},
   "outputs": [],
   "source": [
    "# Plot bar chart\n",
    "data = df.plot(kind = 'barh', ylabel = 'weekday', figsize = (10,5))\n",
    "data.set(xlabel = 'Most Played Number')\n",
    "for c in data.containers:\n",
    "    data.bar_label(c, fmt = '%.0f', label_type = 'edge')\n",
    "data.margins(x = 0.1)\n",
    "data.lengend(title = 'Lottery', bbox_to_anchor = (1, 1.02), loc = 'upper left')\n",
    "\n",
    "\n",
    "plt.show()\n",
    "plt.tight_layout()"
   ]
  }
 ],
 "metadata": {
  "kernelspec": {
   "display_name": "Python 3 (ipykernel)",
   "language": "python",
   "name": "python3"
  },
  "language_info": {
   "codemirror_mode": {
    "name": "ipython",
    "version": 3
   },
   "file_extension": ".py",
   "mimetype": "text/x-python",
   "name": "python",
   "nbconvert_exporter": "python",
   "pygments_lexer": "ipython3",
   "version": "3.10.11"
  }
 },
 "nbformat": 4,
 "nbformat_minor": 2
}
