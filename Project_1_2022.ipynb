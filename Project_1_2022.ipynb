{
 "cells": [
  {
   "cell_type": "code",
   "execution_count": 13,
   "id": "ef695b3d",
   "metadata": {},
   "outputs": [],
   "source": [
    "import pandas as pd\n",
    "from pathlib import Path\n",
    "import matplotlib.pyplot as plt\n",
    "import scipy.stats as st\n",
    "import numpy as np\n",
    "from datetime import datetime\n"
   ]
  },
  {
   "cell_type": "code",
   "execution_count": 5,
   "id": "9ac8937b",
   "metadata": {},
   "outputs": [
    {
     "data": {
      "text/html": [
       "<div>\n",
       "<style scoped>\n",
       "    .dataframe tbody tr th:only-of-type {\n",
       "        vertical-align: middle;\n",
       "    }\n",
       "\n",
       "    .dataframe tbody tr th {\n",
       "        vertical-align: top;\n",
       "    }\n",
       "\n",
       "    .dataframe thead th {\n",
       "        text-align: right;\n",
       "    }\n",
       "</style>\n",
       "<table border=\"1\" class=\"dataframe\">\n",
       "  <thead>\n",
       "    <tr style=\"text-align: right;\">\n",
       "      <th></th>\n",
       "      <th>date</th>\n",
       "      <th>weekday</th>\n",
       "      <th>winning_numbers</th>\n",
       "      <th>powerball</th>\n",
       "      <th>powerplay</th>\n",
       "      <th>jackpot</th>\n",
       "      <th>month</th>\n",
       "    </tr>\n",
       "  </thead>\n",
       "  <tbody>\n",
       "    <tr>\n",
       "      <th>0</th>\n",
       "      <td>1/1/2022</td>\n",
       "      <td>Sat</td>\n",
       "      <td>6-12-39-48-50</td>\n",
       "      <td>7</td>\n",
       "      <td>2</td>\n",
       "      <td>5.000000e+08</td>\n",
       "      <td>1</td>\n",
       "    </tr>\n",
       "    <tr>\n",
       "      <th>1</th>\n",
       "      <td>1/3/2022</td>\n",
       "      <td>Mon</td>\n",
       "      <td>2-13-32-33-48</td>\n",
       "      <td>22</td>\n",
       "      <td>2</td>\n",
       "      <td>5.400000e+08</td>\n",
       "      <td>1</td>\n",
       "    </tr>\n",
       "    <tr>\n",
       "      <th>2</th>\n",
       "      <td>1/5/2022</td>\n",
       "      <td>Wed</td>\n",
       "      <td>6-14-25-33-46</td>\n",
       "      <td>17</td>\n",
       "      <td>2</td>\n",
       "      <td>6.300000e+08</td>\n",
       "      <td>1</td>\n",
       "    </tr>\n",
       "    <tr>\n",
       "      <th>3</th>\n",
       "      <td>1/8/2022</td>\n",
       "      <td>Sat</td>\n",
       "      <td>20-21-36-60-65</td>\n",
       "      <td>13</td>\n",
       "      <td>10</td>\n",
       "      <td>2.000000e+07</td>\n",
       "      <td>1</td>\n",
       "    </tr>\n",
       "    <tr>\n",
       "      <th>4</th>\n",
       "      <td>1/10/2022</td>\n",
       "      <td>Mon</td>\n",
       "      <td>14-17-18-21-27</td>\n",
       "      <td>9</td>\n",
       "      <td>2</td>\n",
       "      <td>2.700000e+07</td>\n",
       "      <td>1</td>\n",
       "    </tr>\n",
       "    <tr>\n",
       "      <th>...</th>\n",
       "      <td>...</td>\n",
       "      <td>...</td>\n",
       "      <td>...</td>\n",
       "      <td>...</td>\n",
       "      <td>...</td>\n",
       "      <td>...</td>\n",
       "      <td>...</td>\n",
       "    </tr>\n",
       "    <tr>\n",
       "      <th>127</th>\n",
       "      <td>10/24/2022</td>\n",
       "      <td>Mon</td>\n",
       "      <td>18-23-35-45-54</td>\n",
       "      <td>16</td>\n",
       "      <td>4</td>\n",
       "      <td>6.250000e+08</td>\n",
       "      <td>10</td>\n",
       "    </tr>\n",
       "    <tr>\n",
       "      <th>128</th>\n",
       "      <td>10/26/2022</td>\n",
       "      <td>Wed</td>\n",
       "      <td>19-36-37-46-56</td>\n",
       "      <td>24</td>\n",
       "      <td>2</td>\n",
       "      <td>7.000000e+08</td>\n",
       "      <td>10</td>\n",
       "    </tr>\n",
       "    <tr>\n",
       "      <th>129</th>\n",
       "      <td>10/29/2022</td>\n",
       "      <td>Sat</td>\n",
       "      <td>19-31-40-46-57</td>\n",
       "      <td>23</td>\n",
       "      <td>3</td>\n",
       "      <td>8.250000e+08</td>\n",
       "      <td>10</td>\n",
       "    </tr>\n",
       "    <tr>\n",
       "      <th>130</th>\n",
       "      <td>10/31/2022</td>\n",
       "      <td>Mon</td>\n",
       "      <td>13-19-36-39-59</td>\n",
       "      <td>13</td>\n",
       "      <td>3</td>\n",
       "      <td>1.000000e+09</td>\n",
       "      <td>10</td>\n",
       "    </tr>\n",
       "    <tr>\n",
       "      <th>131</th>\n",
       "      <td>11/2/2022</td>\n",
       "      <td>Wed</td>\n",
       "      <td>2-11-22-35-60</td>\n",
       "      <td>23</td>\n",
       "      <td>2</td>\n",
       "      <td>1.200000e+11</td>\n",
       "      <td>11</td>\n",
       "    </tr>\n",
       "  </tbody>\n",
       "</table>\n",
       "<p>132 rows × 7 columns</p>\n",
       "</div>"
      ],
      "text/plain": [
       "           date weekday winning_numbers  powerball  powerplay       jackpot  \\\n",
       "0      1/1/2022     Sat   6-12-39-48-50          7          2  5.000000e+08   \n",
       "1      1/3/2022     Mon   2-13-32-33-48         22          2  5.400000e+08   \n",
       "2      1/5/2022     Wed   6-14-25-33-46         17          2  6.300000e+08   \n",
       "3      1/8/2022     Sat  20-21-36-60-65         13         10  2.000000e+07   \n",
       "4     1/10/2022     Mon  14-17-18-21-27          9          2  2.700000e+07   \n",
       "..          ...     ...             ...        ...        ...           ...   \n",
       "127  10/24/2022     Mon  18-23-35-45-54         16          4  6.250000e+08   \n",
       "128  10/26/2022     Wed  19-36-37-46-56         24          2  7.000000e+08   \n",
       "129  10/29/2022     Sat  19-31-40-46-57         23          3  8.250000e+08   \n",
       "130  10/31/2022     Mon  13-19-36-39-59         13          3  1.000000e+09   \n",
       "131   11/2/2022     Wed   2-11-22-35-60         23          2  1.200000e+11   \n",
       "\n",
       "     month  \n",
       "0        1  \n",
       "1        1  \n",
       "2        1  \n",
       "3        1  \n",
       "4        1  \n",
       "..     ...  \n",
       "127     10  \n",
       "128     10  \n",
       "129     10  \n",
       "130     10  \n",
       "131     11  \n",
       "\n",
       "[132 rows x 7 columns]"
      ]
     },
     "execution_count": 5,
     "metadata": {},
     "output_type": "execute_result"
    }
   ],
   "source": [
    "file = Path('Resources/2022_lottery_data.csv')\n",
    "\n",
    "df_2022 = pd.read_csv(file)\n",
    "df_2022['month'] = pd.to_datetime(df_2022['date']).dt.month\n",
    "df_2022"
   ]
  },
  {
   "cell_type": "code",
   "execution_count": 14,
   "id": "228beeb4",
   "metadata": {},
   "outputs": [
    {
     "data": {
      "text/html": [
       "<div>\n",
       "<style scoped>\n",
       "    .dataframe tbody tr th:only-of-type {\n",
       "        vertical-align: middle;\n",
       "    }\n",
       "\n",
       "    .dataframe tbody tr th {\n",
       "        vertical-align: top;\n",
       "    }\n",
       "\n",
       "    .dataframe thead th {\n",
       "        text-align: right;\n",
       "    }\n",
       "</style>\n",
       "<table border=\"1\" class=\"dataframe\">\n",
       "  <thead>\n",
       "    <tr style=\"text-align: right;\">\n",
       "      <th></th>\n",
       "      <th>powerball</th>\n",
       "      <th>powerplay</th>\n",
       "    </tr>\n",
       "  </thead>\n",
       "  <tbody>\n",
       "    <tr>\n",
       "      <th>0</th>\n",
       "      <td>16</td>\n",
       "      <td>2</td>\n",
       "    </tr>\n",
       "  </tbody>\n",
       "</table>\n",
       "</div>"
      ],
      "text/plain": [
       "   powerball  powerplay\n",
       "0         16          2"
      ]
     },
     "execution_count": 14,
     "metadata": {},
     "output_type": "execute_result"
    }
   ],
   "source": [
    "#year mode for powerball and powerplay.  Question 1\n",
    "pb_counts2022 = df_2022['powerball'].mode()\n",
    "pp_counts2022 = df_2022['powerplay'].mode()\n",
    "\n",
    "modes_year_2022 = pd.merge(pb_counts2022, pp_counts2022,left_index=True, right_index=True)\n",
    "\n",
    "modes_year_2022"
   ]
  },
  {
   "cell_type": "code",
   "execution_count": 7,
   "id": "053e2fc5",
   "metadata": {},
   "outputs": [
    {
     "data": {
      "text/plain": [
       "<matplotlib.legend.Legend at 0x13783fca0>"
      ]
     },
     "execution_count": 7,
     "metadata": {},
     "output_type": "execute_result"
    },
    {
     "data": {
      "image/png": "[encoded data removed]",
      "text/plain": [
       "<Figure size 1000x500 with 1 Axes>"
      ]
     },
     "metadata": {},
     "output_type": "display_data"
    }
   ],
   "source": [
    "#month modes.  Question 2\n",
    "pb_month_2022 = df_2022[['month','powerball']]\n",
    "pp_month_2022 = df_2022[['month','powerplay']]\n",
    "\n",
    "pb_month_counts2022 = pb_month_2022.groupby('month')['powerball'].apply(lambda x: x.mode())\n",
    "pp_month_counts2022 = pp_month_2022.groupby('month')['powerplay'].apply(lambda x: x.mode())\n",
    "\n",
    "modes_month_2022 = pd.merge(pb_month_counts2022, pp_month_counts2022,left_index=True, right_index=True)\n",
    "\n",
    "data = modes_month_2022.plot(kind = 'barh', ylabel = 'Month', figsize = (10,5))\n",
    "data.set(xlabel = 'Powerball Number Occurances')\n",
    "for c in data.containers:\n",
    "    data.bar_label(c, fmt = '%.0f', label_type = 'edge')\n",
    "data.margins(x = 0.1)\n",
    "data.legend(title = 'Lottery', bbox_to_anchor = (1, 1.02), loc = 'upper left')\n"
   ]
  },
  {
   "cell_type": "code",
   "execution_count": 8,
   "id": "98628139",
   "metadata": {},
   "outputs": [
    {
     "data": {
      "text/plain": [
       "<matplotlib.legend.Legend at 0x137d61960>"
      ]
     },
     "execution_count": 8,
     "metadata": {},
     "output_type": "execute_result"
    },
    {
     "data": {
      "image/png": "[encoded data removed]",
      "text/plain": [
       "<Figure size 1000x500 with 1 Axes>"
      ]
     },
     "metadata": {},
     "output_type": "display_data"
    }
   ],
   "source": [
    "#day modes.  Question 3\n",
    "pb_day_2022 = df_2022[['weekday','powerball']]\n",
    "pp_day_2022 = df_2022[['weekday','powerplay']]\n",
    "\n",
    "pb_day_counts2022 = pb_day_2022.groupby('weekday')['powerball'].apply(lambda x: x.mode())\n",
    "pp_day_counts2022 = pp_day_2022.groupby('weekday')['powerplay'].apply(lambda x: x.mode())\n",
    "\n",
    "modes_day_2022 = pd.merge(pb_day_counts2022, pp_day_counts2022,left_index=True, right_index=True)\n",
    "\n",
    "data = modes_day_2022.plot(kind = 'barh', ylabel = 'Weekday', figsize = (10,5))\n",
    "data.set(xlabel = 'Powerball Number Occurances')\n",
    "for c in data.containers:\n",
    "    data.bar_label(c, fmt = '%.0f', label_type = 'edge')\n",
    "data.margins(x = 0.1)\n",
    "data.legend(title = 'Lottery', bbox_to_anchor = (1, 1.02), loc = 'upper left')\n",
    "\n"
   ]
  },
  {
   "cell_type": "code",
   "execution_count": 9,
   "id": "1652df66",
   "metadata": {},
   "outputs": [
    {
     "name": "stdout",
     "output_type": "stream",
     "text": [
      "Wed 162500000.0\n"
     ]
    }
   ],
   "source": [
    "#day highest median jackpot\n",
    "day_jackpot_2022df = df_2022[['weekday','jackpot']]\n",
    "\n",
    "day_jackpot2022amt = day_jackpot_2022df.groupby('weekday')['jackpot'].median().max()\n",
    "day_jackpot2022day = day_jackpot_2022df.groupby('weekday')['jackpot'].median().idxmax()\n",
    "\n",
    "print(day_jackpot2022day, day_jackpot2022amt)\n"
   ]
  },
  {
   "cell_type": "code",
   "execution_count": 10,
   "id": "67663ad2",
   "metadata": {},
   "outputs": [
    {
     "data": {
      "text/plain": [
       "month\n",
       "11    1.200000e+11\n",
       "10    7.383000e+09\n",
       "4     3.879000e+09\n",
       "6     3.423000e+09\n",
       "9     2.631000e+09\n",
       "Name: jackpot, dtype: float64"
      ]
     },
     "execution_count": 10,
     "metadata": {},
     "output_type": "execute_result"
    }
   ],
   "source": [
    "#highest dollar months, top 5.  Question 4\n",
    "months_2022df = df_2022[['month','jackpot']]\n",
    "\n",
    "months_sums2022 = months_2022df.groupby('month')['jackpot'].apply(lambda x: x.sum())\n",
    "months_list2022 = months_sums2022.sort_values(ascending = False)\n",
    "\n",
    "months_list2022.head(5)\n"
   ]
  },
  {
   "cell_type": "code",
   "execution_count": 11,
   "id": "cf03a88e",
   "metadata": {},
   "outputs": [],
   "source": [
    "#highest dollar day.  Question 5\n",
    "days_2022df = df_2022[['weekday','jackpot']]\n",
    "\n",
    "days_sums2022 = days_2022df.groupby('weekday')['jackpot'].apply(lambda x: x.sum())\n",
    "days_list2022 = days_sums2022.sort_values(ascending = False)\n",
    "\n"
   ]
  },
  {
   "cell_type": "code",
   "execution_count": null,
   "id": "44bb87f0",
   "metadata": {},
   "outputs": [],
   "source": []
  }
 ],
 "metadata": {
  "kernelspec": {
   "display_name": "Python 3 (ipykernel)",
   "language": "python",
   "name": "python3"
  },
  "language_info": {
   "codemirror_mode": {
    "name": "ipython",
    "version": 3
   },
   "file_extension": ".py",
   "mimetype": "text/x-python",
   "name": "python",
   "nbconvert_exporter": "python",
   "pygments_lexer": "ipython3",
   "version": "3.10.9"
  }
 },
 "nbformat": 4,
 "nbformat_minor": 5
}
